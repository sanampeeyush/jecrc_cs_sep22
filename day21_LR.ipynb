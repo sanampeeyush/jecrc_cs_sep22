{
 "cells": [
  {
   "cell_type": "code",
   "execution_count": 6,
   "metadata": {},
   "outputs": [
    {
     "data": {
      "text/plain": [
       "LinearRegression()"
      ]
     },
     "execution_count": 6,
     "metadata": {},
     "output_type": "execute_result"
    }
   ],
   "source": [
    "import pandas as pd\n",
    "mymodel = pd.read_pickle('housePrice.pickle')\n",
    "mymodel"
   ]
  },
  {
   "cell_type": "code",
   "execution_count": 4,
   "metadata": {},
   "outputs": [
    {
     "name": "stdout",
     "output_type": "stream",
     "text": [
      "3743363.8242754387\n"
     ]
    }
   ],
   "source": [
    "query_data = {\n",
    "    'Avg. Area Income':[200000], \n",
    "    'Avg. Area House Age':[6], \n",
    "    'Avg. Area Number of Rooms':[5], \n",
    "    'Area Population':[30000]\n",
    "}\n",
    "result = mymodel.predict(pd.DataFrame(query_data))\n",
    "print(result[0])"
   ]
  },
  {
   "cell_type": "code",
   "execution_count": null,
   "metadata": {},
   "outputs": [],
   "source": []
  }
 ],
 "metadata": {
  "kernelspec": {
   "display_name": "Python 3.9.12 ('base')",
   "language": "python",
   "name": "python3"
  },
  "language_info": {
   "codemirror_mode": {
    "name": "ipython",
    "version": 3
   },
   "file_extension": ".py",
   "mimetype": "text/x-python",
   "name": "python",
   "nbconvert_exporter": "python",
   "pygments_lexer": "ipython3",
   "version": "3.9.12"
  },
  "orig_nbformat": 4,
  "vscode": {
   "interpreter": {
    "hash": "249597e788c5407e6e31dbc4066e1ef17aa1b47f95ee138f863f8aea22a4499a"
   }
  }
 },
 "nbformat": 4,
 "nbformat_minor": 2
}
